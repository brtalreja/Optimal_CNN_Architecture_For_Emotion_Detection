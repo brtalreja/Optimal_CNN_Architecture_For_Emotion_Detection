{
  "cells": [
    {
      "cell_type": "code",
      "source": [
        "#from google.colab import drive\n",
        "#drive.mount('/content/drive/')"
      ],
      "metadata": {
        "id": "31NA2R702ZJW"
      },
      "execution_count": 1,
      "outputs": []
    },
    {
      "cell_type": "code",
      "execution_count": 2,
      "metadata": {
        "id": "hbwAqKL73Yzj"
      },
      "outputs": [],
      "source": [
        "import torch\n",
        "import torch.nn as nn\n",
        "import torch.optim as optim\n",
        "import torch.nn.functional as F\n",
        "import torchvision\n",
        "from torch.utils.data import Dataset, DataLoader\n",
        "from torchvision import transforms\n",
        "import torchvision.models as models\n",
        "\n",
        "import pandas as pd\n",
        "import numpy as np\n",
        "import os\n",
        "import time"
      ]
    },
    {
      "cell_type": "markdown",
      "metadata": {
        "id": "st9_57ff7V5T"
      },
      "source": [
        "Order for Loading Data\n",
        "1. Import necessary Libraries\n",
        "2. Import Data\n",
        "3. Write or instantiate Dataset object--some for image, some for sound, csv etc\n",
        "4. Pass instantiated object into dataloader"
      ]
    },
    {
      "cell_type": "code",
      "execution_count": 4,
      "metadata": {
        "id": "a8bl2cUb58mO"
      },
      "outputs": [],
      "source": [
        "#Import\n",
        "#! consol command\n",
        "#-q quiet, suppresses output\n",
        "#!unzip -q \"/content/drive/MyDrive/CS577_Project/dataset.zip\"\n",
        "!unzip -q \"archive (7).zip\""
      ]
    },
    {
      "cell_type": "code",
      "execution_count": null,
      "metadata": {
        "id": "axH1mM3G6gQf"
      },
      "outputs": [],
      "source": [
        "#Class to represent Data Set--subclass of imported dataset class\n",
        "class EmotionDataset(Dataset):\n",
        "  #Static declaration\n",
        "  #Surprise entered as suprise in dataset\n",
        "  classes=[\"Angry\",\"Fear\",\"Happy\",\"Neutral\",\"Sad\",\"Suprise\"]\n",
        "  numclasses=6\n",
        "\n",
        "  #Pass in path to inner testing training folders--use parameter \"root\"\n",
        "  def __init__(self, root):\n",
        "    super().__init__()\n",
        "    self.root=root\n",
        "    #Instance variable lists--file paths, lables, loops-can be overwritten for specific instance see self.classes\n",
        "    self.filepath=[]\n",
        "    self.filelabel=[]\n",
        "    for index, label in enumerate(self.classes):\n",
        "      #Joins multiple path commponents into one, agnostic to OS\n",
        "      labeldatapath=os.path.join(root,label)\n",
        "      #Return list of files and directories in called folder\n",
        "      filenames=os.listdir(labeldatapath)\n",
        "      #Path from current directory to file--join labeldatapath with file name\n",
        "      #Without List Comprehension\n",
        "      #for filename in filenames:\n",
        "          #Construct full relative path\n",
        "          #self.filepath.append(os.path.join(labeldatapath,filename))\n",
        "          #Append index so classes have numbers\n",
        "          #self.filelabel.append(index)\n",
        "          #With List Comprehension\n",
        "    self.filepath+=[os.path.join(labeldatapath,filename) for filename in filenames]\n",
        "    self.filelabel+=[index]*len(filenames)\n",
        "\n",
        "  def __getitem__(self, index):\n",
        "    return torchvision.io.read_image(self.filepath[index]),torch.tensor(self.filelabel[index])\n",
        "  def __len__(self):\n",
        "    return len(self.filepath)"
      ]
    },
    {
      "cell_type": "code",
      "execution_count": null,
      "metadata": {
        "colab": {
          "base_uri": "https://localhost:8080/"
        },
        "id": "v1MG28P4gJxJ",
        "outputId": "d0adbca5-f9f7-4ead-b17b-640c93e1d75d"
      },
      "outputs": [
        {
          "output_type": "stream",
          "name": "stdout",
          "text": [
            "torch.Size([4, 1, 48, 48])\n",
            "torch.Size([4])\n"
          ]
        }
      ],
      "source": [
        "#Instantiate Train and Test DataSets then feed into DataLoader\n",
        "#Root Directory at the Splits Builds INdex\n",
        "training_ds=EmotionDataset(\"Training/Training\")\n",
        "testing_ds=EmotionDataset(\"Testing/Testing\")\n",
        "\n",
        "train_dataloader=DataLoader(training_ds, batch_size=4,shuffle=True)\n",
        "testing_dataloader=DataLoader(testing_ds, batch_size=4,shuffle=False)\n",
        "\n",
        "for images,labels in train_dataloader:\n",
        "  print(images.size())\n",
        "  print(labels.size())\n",
        "  break"
      ]
    },
    {
      "cell_type": "code",
      "source": [
        "#Transformer(Encoder-Decoder) model which acts as a pretrained model for transfer learning in channel boosting technique.\n",
        "class Transformer_TL(nn.Module):\n",
        "  def __init__(self):\n",
        "    super(Transformer_TL, self).__init__()\n",
        "\n",
        "    #Encoder.\n",
        "    self.encoder = nn.Sequential(\n",
        "      nn.Conv2d(1, 16, kernel_size=3, stride=1, padding=1),\n",
        "      nn.ReLU(True),\n",
        "      nn.MaxPool2d(kernel_size=2, stride=2),\n",
        "      nn.Conv2d(16, 32, kernel_size=3, stride=1, padding=1),\n",
        "      nn.ReLU(True),\n",
        "      nn.MaxPool2d(kernel_size=2, stride=2)\n",
        "    )\n",
        "\n",
        "    #Decoder.\n",
        "    self.decoder = nn.Sequential(\n",
        "      nn.ConvTranspose2d(32, 16, kernel_size=3, stride=2, padding=1, output_padding=1),\n",
        "      nn.ReLU(True),\n",
        "      nn.ConvTranspose2d(16, 1, kernel_size=3, stride=2, padding=1, output_padding=1),\n",
        "      nn.Sigmoid()\n",
        "    )\n",
        "\n",
        "  #Forward Pass.\n",
        "  def forward(self, x):\n",
        "    x = self.encoder(x)\n",
        "\n",
        "    x = self.decoder(x)\n",
        "\n",
        "    return x"
      ],
      "metadata": {
        "id": "SmORNIfT6Fj4"
      },
      "execution_count": null,
      "outputs": []
    },
    {
      "cell_type": "code",
      "source": [
        "#CNN with a pre-trained model (ResNet) for transfer learning in channel boosting.\n",
        "class CNN_ResNet(nn.Module):\n",
        "  def __init__(self, encoder_decoder):\n",
        "    super(CNN_ResNet, self).__init__()\n",
        "    self.encoder_decoder = encoder_decoder\n",
        "    self.resnet = models.resnet18(pretrained=True)\n",
        "    self.resnet.conv1 = nn.Conv2d(1, 64, kernel_size=7, stride=2, padding=3, bias=False)\n",
        "    self.resnet.fc = nn.Identity()\n",
        "\n",
        "  def forward(self, x):\n",
        "    x = self.encoder_decoder(x)\n",
        "    x = self.resnet(x)\n",
        "    return x"
      ],
      "metadata": {
        "id": "YFe9YR1WPH2y"
      },
      "execution_count": null,
      "outputs": []
    },
    {
      "cell_type": "code",
      "source": [
        "#Model instantiation.\n",
        "transformer_instance = Transformer_TL()\n",
        "\n",
        "channel_boosted_CNN = CNN_ResNet(transformer_instance)"
      ],
      "metadata": {
        "id": "G_eLPuZB6brS",
        "colab": {
          "base_uri": "https://localhost:8080/"
        },
        "outputId": "5068f7c7-5404-43d2-8f3c-6c2d93ac5275"
      },
      "execution_count": null,
      "outputs": [
        {
          "output_type": "stream",
          "name": "stderr",
          "text": [
            "/usr/local/lib/python3.10/dist-packages/torchvision/models/_utils.py:208: UserWarning: The parameter 'pretrained' is deprecated since 0.13 and may be removed in the future, please use 'weights' instead.\n",
            "  warnings.warn(\n",
            "/usr/local/lib/python3.10/dist-packages/torchvision/models/_utils.py:223: UserWarning: Arguments other than a weight enum or `None` for 'weights' are deprecated since 0.13 and may be removed in the future. The current behavior is equivalent to passing `weights=ResNet18_Weights.IMAGENET1K_V1`. You can also use `weights=ResNet18_Weights.DEFAULT` to get the most up-to-date weights.\n",
            "  warnings.warn(msg)\n",
            "Downloading: \"https://download.pytorch.org/models/resnet18-f37072fd.pth\" to /root/.cache/torch/hub/checkpoints/resnet18-f37072fd.pth\n",
            "100%|██████████| 44.7M/44.7M [00:00<00:00, 149MB/s]\n"
          ]
        }
      ]
    },
    {
      "cell_type": "code",
      "source": [
        "criterion = nn.CrossEntropyLoss()\n",
        "optimizer = optim.Adam(channel_boosted_CNN.parameters(), lr=0.001)\n",
        "\n",
        "#Training loop.\n",
        "num_epochs = 10\n",
        "train_losses = []\n",
        "train_accuracies = []\n",
        "for epoch in range(num_epochs):\n",
        "  running_loss = 0.0\n",
        "  correct = 0\n",
        "  total = 0\n",
        "  channel_boosted_CNN.train()\n",
        "  for images, labels in train_dataloader:\n",
        "    optimizer.zero_grad()\n",
        "    images = torch.tensor(images, dtype=torch.float32)\n",
        "    outputs = channel_boosted_CNN(images)\n",
        "    loss = criterion(outputs, labels)\n",
        "    loss.backward()\n",
        "    optimizer.step()\n",
        "\n",
        "    #Loss.\n",
        "    running_loss += loss.item()\n",
        "\n",
        "    #Accuracy.\n",
        "    _, predicted = torch.max(outputs, 1)\n",
        "    total += labels.size(0)\n",
        "    correct += (predicted == labels).sum().item()\n",
        "\n",
        "  train_loss = running_loss / len(train_dataloader)\n",
        "  train_acc = 100 * correct / total\n",
        "  train_losses.append(train_loss)\n",
        "  train_accuracies.append(train_acc)\n",
        "\n",
        "  print(f\"Epoch [{epoch + 1}/{num_epochs}] Training Loss: {train_loss:.4f}, Training Accuracy: {train_acc:.2f}%\")\n",
        "\n",
        "#Testing loop.\n",
        "test_losses = []\n",
        "test_accuracies = []\n",
        "channel_boosted_CNN.eval()\n",
        "with torch.no_grad():\n",
        "  test_loss = 0.0\n",
        "  for images, labels in testing_dataloader:\n",
        "    outputs = channel_boosted_CNN(images.float())\n",
        "    loss = criterion(outputs, labels)\n",
        "\n",
        "    #Loss.\n",
        "    test_losses.append(loss.item())\n",
        "\n",
        "    #Accuracy.\n",
        "    _, predicted = torch.max(outputs, 1)\n",
        "    total = labels.size(0)\n",
        "    correct = (predicted == labels).sum().item()\n",
        "    test_acc = 100 * correct / total\n",
        "    test_accuracies.append(test_acc)\n",
        "\n",
        "avg_test_loss = sum(test_losses) / len(test_losses)\n",
        "avg_test_acc = sum(test_accuracies) / len(test_accuracies)\n",
        "print(f\"Average Test Loss: {avg_test_loss:.4f}, Average Test Accuracy: {avg_test_acc:.2f}%\")"
      ],
      "metadata": {
        "colab": {
          "base_uri": "https://localhost:8080/"
        },
        "id": "vHoyx2-V6uy8",
        "outputId": "2c1fec3b-f4ea-4530-a51f-52cd895b22f6"
      },
      "execution_count": null,
      "outputs": [
        {
          "output_type": "stream",
          "name": "stderr",
          "text": [
            "<ipython-input-13-bfe6f27da645>:15: UserWarning: To copy construct from a tensor, it is recommended to use sourceTensor.clone().detach() or sourceTensor.clone().detach().requires_grad_(True), rather than torch.tensor(sourceTensor).\n",
            "  images = torch.tensor(images, dtype=torch.float32)\n"
          ]
        },
        {
          "output_type": "stream",
          "name": "stdout",
          "text": [
            "Epoch [1/10] Training Loss: 4.2468, Training Accuracy: 79.25%\n",
            "Epoch [2/10] Training Loss: 1.2803, Training Accuracy: 100.00%\n",
            "Epoch [3/10] Training Loss: 0.3078, Training Accuracy: 100.00%\n",
            "Epoch [4/10] Training Loss: 0.1200, Training Accuracy: 100.00%\n",
            "Epoch [5/10] Training Loss: 0.0604, Training Accuracy: 100.00%\n",
            "Epoch [6/10] Training Loss: 0.0343, Training Accuracy: 100.00%\n",
            "Epoch [7/10] Training Loss: 0.0208, Training Accuracy: 100.00%\n",
            "Epoch [8/10] Training Loss: 0.0132, Training Accuracy: 100.00%\n",
            "Epoch [9/10] Training Loss: 0.0085, Training Accuracy: 100.00%\n",
            "Epoch [10/10] Training Loss: 0.0056, Training Accuracy: 100.00%\n",
            "Average Test Loss: 0.0063, Average Test Accuracy: 100.00%\n"
          ]
        }
      ]
    },
    {
      "cell_type": "code",
      "source": [
        "from matplotlib import pyplot as plt\n",
        "\n",
        "plt.title(\"Training Losses and Training Accuracies Per Epoch on SE-Net\")\n",
        "plt.plot(train_losses)\n",
        "plt.plot(train_accuracies)\n",
        "plt.legend(['Training Loss','Training Accuracy'],loc=5)\n",
        "plt.figure()"
      ],
      "metadata": {
        "colab": {
          "base_uri": "https://localhost:8080/",
          "height": 488
        },
        "id": "aFrXUAzuUy4_",
        "outputId": "95be115b-bf2e-4d66-c1cf-16d5143b0a45"
      },
      "execution_count": null,
      "outputs": [
        {
          "output_type": "execute_result",
          "data": {
            "text/plain": [
              "<Figure size 640x480 with 0 Axes>"
            ]
          },
          "metadata": {},
          "execution_count": 15
        },
        {
          "output_type": "display_data",
          "data": {
            "text/plain": [
              "<Figure size 640x480 with 1 Axes>"
            ],
            "image/png": "[encoded data removed]"
          },
          "metadata": {}
        },
        {
          "output_type": "display_data",
          "data": {
            "text/plain": [
              "<Figure size 640x480 with 0 Axes>"
            ]
          },
          "metadata": {}
        }
      ]
    }
  ],
  "metadata": {
    "colab": {
      "provenance": [],
      "gpuType": "V100",
      "machine_shape": "hm"
    },
    "kernelspec": {
      "display_name": "Python 3",
      "name": "python3"
    },
    "language_info": {
      "codemirror_mode": {
        "name": "ipython",
        "version": 3
      },
      "file_extension": ".py",
      "mimetype": "text/x-python",
      "name": "python",
      "nbconvert_exporter": "python",
      "pygments_lexer": "ipython3",
      "version": "3.9.13"
    },
    "accelerator": "GPU"
  },
  "nbformat": 4,
  "nbformat_minor": 0
}