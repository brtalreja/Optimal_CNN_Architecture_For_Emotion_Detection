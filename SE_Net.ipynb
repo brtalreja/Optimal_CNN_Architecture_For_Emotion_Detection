{
  "cells": [
    {
      "cell_type": "code",
      "source": [
        "#from google.colab import drive\n",
        "#drive.mount('/content/drive/')"
      ],
      "metadata": {
        "colab": {
          "base_uri": "https://localhost:8080/"
        },
        "id": "31NA2R702ZJW",
        "outputId": "a419ef94-afcb-4b1c-b588-2302d1737d6a"
      },
      "execution_count": null,
      "outputs": [
        {
          "output_type": "stream",
          "name": "stdout",
          "text": [
            "Mounted at /content/drive/\n"
          ]
        }
      ]
    },
    {
      "cell_type": "code",
      "execution_count": 1,
      "metadata": {
        "id": "hbwAqKL73Yzj"
      },
      "outputs": [],
      "source": [
        "import torch\n",
        "import torch.nn as nn\n",
        "import torch.optim as optim\n",
        "import torch.nn.functional as F\n",
        "import torchvision\n",
        "from torch.utils.data import Dataset, DataLoader\n",
        "\n",
        "import pandas as pd\n",
        "import numpy as np\n",
        "import os\n",
        "import time\n",
        "from matplotlib import pyplot as plt\n",
        "import seaborn as sns\n",
        "from sklearn.metrics import confusion_matrix"
      ]
    },
    {
      "cell_type": "markdown",
      "metadata": {
        "id": "st9_57ff7V5T"
      },
      "source": [
        "Order for Loading Data\n",
        "1. Import necessary Libraries\n",
        "2. Import Data\n",
        "3. Write or instantiate Dataset object--some for image, some for sound, csv etc\n",
        "4. Pass instantiated object into dataloader"
      ]
    },
    {
      "cell_type": "code",
      "execution_count": 2,
      "metadata": {
        "id": "a8bl2cUb58mO"
      },
      "outputs": [],
      "source": [
        "#Import\n",
        "#! consol command\n",
        "#-q quiet, suppresses output\n",
        "!unzip -q \"archive (7).zip\""
      ]
    },
    {
      "cell_type": "code",
      "execution_count": 3,
      "metadata": {
        "id": "axH1mM3G6gQf"
      },
      "outputs": [],
      "source": [
        "#Class to represent Data Set--subclass of imported dataset class\n",
        "class EmotionDataset(Dataset):\n",
        "  #Static declaration\n",
        "  #Surprise entered as suprise in dataset\n",
        "  classes=[\"Angry\",\"Fear\",\"Happy\",\"Neutral\",\"Sad\",\"Suprise\"]\n",
        "  numclasses=6\n",
        "\n",
        "  #Pass in path to inner testing training folders--use parameter \"root\"\n",
        "  def __init__(self, root):\n",
        "    super().__init__()\n",
        "    self.root=root\n",
        "    #Instance variable lists--file paths, lables, loops-can be overwritten for specific instance see self.classes\n",
        "    self.filepath=[]\n",
        "    self.filelabel=[]\n",
        "    for index, label in enumerate(self.classes):\n",
        "      #Joins multiple path commponents into one, agnostic to OS\n",
        "      labeldatapath=os.path.join(root,label)\n",
        "      #Return list of files and directories in called folder\n",
        "      filenames=os.listdir(labeldatapath)\n",
        "      #Path from current directory to file--join labeldatapath with file name\n",
        "      #Without List Comprehension\n",
        "      #for filename in filenames:\n",
        "          #Construct full relative path\n",
        "          #self.filepath.append(os.path.join(labeldatapath,filename))\n",
        "          #Append index so classes have numbers\n",
        "          #self.filelabel.append(index)\n",
        "          #With List Comprehension\n",
        "    self.filepath+=[os.path.join(labeldatapath,filename) for filename in filenames]\n",
        "    self.filelabel+=[index]*len(filenames)\n",
        "\n",
        "  def __getitem__(self, index):\n",
        "    return torchvision.io.read_image(self.filepath[index]),torch.tensor(self.filelabel[index])\n",
        "  def __len__(self):\n",
        "    return len(self.filepath)"
      ]
    },
    {
      "cell_type": "code",
      "execution_count": null,
      "metadata": {
        "colab": {
          "base_uri": "https://localhost:8080/"
        },
        "id": "v1MG28P4gJxJ",
        "outputId": "4520b03d-72ad-4c84-f754-dea5051d1c80"
      },
      "outputs": [
        {
          "output_type": "stream",
          "name": "stdout",
          "text": [
            "torch.Size([4, 1, 48, 48])\n",
            "torch.Size([4])\n"
          ]
        }
      ],
      "source": [
        "#Instantiate Train and Test DataSets then feed into DataLoader\n",
        "#Root Directory at the Splits Builds INdex\n",
        "training_ds=EmotionDataset(\"Training/Training\")\n",
        "testing_ds=EmotionDataset(\"Testing/Testing\")\n",
        "\n",
        "train_dataloader=DataLoader(training_ds, batch_size=4,shuffle=True)\n",
        "testing_dataloader=DataLoader(testing_ds, batch_size=4,shuffle=False)\n",
        "\n",
        "for images,labels in train_dataloader:\n",
        "  print(images.size())\n",
        "  print(labels.size())\n",
        "  break"
      ]
    },
    {
      "cell_type": "code",
      "source": [
        "#Squeeze and Excitation block for the CNN with Squeeze and Excitation network implementation:\n",
        "#HELPER CLASS#\n",
        "class SEBlock(nn.Module):\n",
        "  def __init__(self, in_channels, reduction_ratio=16):\n",
        "    super(SEBlock, self).__init__()\n",
        "    self.global_pooling = nn.AdaptiveAvgPool2d(1)\n",
        "    self.fc1 = nn.Linear(in_channels, in_channels // reduction_ratio)\n",
        "    self.relu = nn.ReLU(inplace=True)\n",
        "    self.fc2 = nn.Linear(in_channels // reduction_ratio, in_channels)\n",
        "    self.sigmoid = nn.Sigmoid()\n",
        "\n",
        "  #Forward pass\n",
        "  def forward(self, x):\n",
        "    x_sq = self.global_pooling(x).view(x.size(0), -1)\n",
        "\n",
        "    x_sq = self.fc1(x_sq)\n",
        "    x_sq = self.relu(x_sq)\n",
        "    x_sq = self.fc2(x_sq)\n",
        "    x_sq = self.sigmoid(x_sq).view(x.size(0), -1, 1, 1)\n",
        "\n",
        "    return x * x_sq"
      ],
      "metadata": {
        "id": "EF_POrDGQsvJ"
      },
      "execution_count": null,
      "outputs": []
    },
    {
      "cell_type": "code",
      "source": [
        "#Convolution with Squeeze and Excitation block implementation:\n",
        "class CNNWithSE(nn.Module):\n",
        "  def __init__(self, num_classes):\n",
        "    super(CNNWithSE, self).__init__()\n",
        "    self.conv1 = nn.Conv2d(in_channels=1, out_channels=64, kernel_size=3, padding=1)\n",
        "    self.conv2 = nn.Conv2d(in_channels=64, out_channels=128, kernel_size=3, padding=1)\n",
        "    self.se1 = SEBlock(128) #Selecting 128 channels which is the output of previous convolution layer for squeezing and exciting.\n",
        "    self.pool = nn.MaxPool2d(kernel_size=2, stride=2)\n",
        "    self.fc1 = nn.Linear(128 * 12 * 12, 128)\n",
        "    self.fc2 = nn.Linear(128, num_classes)\n",
        "\n",
        "  def forward(self, x):\n",
        "    x = self.pool(nn.functional.relu(self.conv1(x)))\n",
        "    x = self.pool(nn.functional.relu(self.conv2(x)))\n",
        "    x = self.se1(x)\n",
        "    x = x.view(x.size(0), -1)\n",
        "    x = nn.functional.relu(self.fc1(x))\n",
        "    x = self.fc2(x)\n",
        "    return x"
      ],
      "metadata": {
        "id": "h0MJHGxyQ2ry"
      },
      "execution_count": null,
      "outputs": []
    },
    {
      "cell_type": "code",
      "source": [
        "model = CNNWithSE(num_classes=6)\n",
        "\n",
        "criterion = nn.CrossEntropyLoss()\n",
        "optimizer = torch.optim.Adam(model.parameters(), lr=0.001)\n",
        "\n",
        "############\n",
        "##TRAINING##\n",
        "############\n",
        "timeStart = time.time()\n",
        "num_epochs = 10\n",
        "training_losses = []\n",
        "training_accuracies = []\n",
        "for epoch in range(num_epochs):\n",
        "  model.train()\n",
        "  running_loss_training = 0.0\n",
        "  correct_predictions_train = 0\n",
        "  total_samples_train = 0\n",
        "  for images, labels in train_dataloader:\n",
        "    optimizer.zero_grad()\n",
        "    images = images.float()\n",
        "    outputs = model(images)\n",
        "    loss = criterion(outputs, labels)\n",
        "    loss.backward()\n",
        "    optimizer.step()\n",
        "    running_loss_training += loss.item()\n",
        "    _, predicted_labels = torch.max(outputs, 1)\n",
        "    total_samples_train += labels.size(0)\n",
        "    correct_predictions_train += (predicted_labels == labels).sum().item()\n",
        "\n",
        "  training_loss = running_loss_training / len(train_dataloader)\n",
        "  training_accuracy = 100 * correct_predictions_train / total_samples_train\n",
        "  training_losses.append(training_loss)\n",
        "  training_accuracies.append(training_accuracy)\n",
        "\n",
        "  print(f\"Epoch [{epoch + 1}/{num_epochs}] - Training Loss: {training_loss:.4f}, Training Accuracy: {training_accuracy:.2f}%\")\n",
        "\n",
        "timeEnd = time.time()\n",
        "elapsedTimeInSec = timeEnd - timeStart\n",
        "print(\"Training Execution Time: {:.3f} seconds\".format(elapsedTimeInSec))\n",
        "\n",
        "###########\n",
        "##TESTING##\n",
        "###########\n",
        "timeStart = time.time()\n",
        "model.eval()\n",
        "correct = 0\n",
        "total = 0\n",
        "with torch.no_grad():\n",
        "  for images, labels in testing_dataloader:\n",
        "    images = images.float()\n",
        "    outputs = model(images)\n",
        "    _, predicted = torch.max(outputs.data, 1)\n",
        "    total += labels.size(0)\n",
        "    correct += (predicted == labels).sum().item()\n",
        "\n",
        "print(f'Accuracy on the test set: {(100 * correct / total):.2f}%')\n",
        "\n",
        "timeEnd = time.time()\n",
        "elapsedTimeInSec = timeEnd - timeStart\n",
        "print(\"Testing Execution Time: {:.3f} seconds\".format(elapsedTimeInSec))"
      ],
      "metadata": {
        "colab": {
          "base_uri": "https://localhost:8080/"
        },
        "id": "DbWhdQXHQ42i",
        "outputId": "4676a67b-8c89-41a3-ea4f-2ed8603bbbf1"
      },
      "execution_count": null,
      "outputs": [
        {
          "output_type": "stream",
          "name": "stdout",
          "text": [
            "Epoch [1/10] - Training Loss: 0.0001, Training Accuracy: 100.00%\n",
            "Epoch [2/10] - Training Loss: 0.0000, Training Accuracy: 100.00%\n",
            "Epoch [3/10] - Training Loss: 0.0000, Training Accuracy: 100.00%\n",
            "Epoch [4/10] - Training Loss: 0.0000, Training Accuracy: 100.00%\n",
            "Epoch [5/10] - Training Loss: 0.0000, Training Accuracy: 100.00%\n",
            "Epoch [6/10] - Training Loss: 0.0000, Training Accuracy: 100.00%\n",
            "Epoch [7/10] - Training Loss: 0.0000, Training Accuracy: 100.00%\n",
            "Epoch [8/10] - Training Loss: 0.0000, Training Accuracy: 100.00%\n",
            "Epoch [9/10] - Training Loss: 0.0000, Training Accuracy: 100.00%\n",
            "Epoch [10/10] - Training Loss: 0.0000, Training Accuracy: 100.00%\n",
            "Training Execution Time: 193.439 seconds\n",
            "Accuracy on the test set: 100.00%\n",
            "Testing Execution Time: 0.917 seconds\n"
          ]
        }
      ]
    },
    {
      "cell_type": "code",
      "source": [
        "plt.title(\"Training Losses and Training Accuracies Per Epoch on SE-Net\")\n",
        "plt.plot(training_losses)\n",
        "plt.plot(training_accuracies)\n",
        "plt.legend(['Training Loss','Training Accuracy'],loc=5)\n",
        "plt.figure()\n",
        "\n",
        "#confusion_se=confusion_matrix(labels,correct)\n",
        "\n"
      ],
      "metadata": {
        "colab": {
          "base_uri": "https://localhost:8080/",
          "height": 488
        },
        "id": "Cugp9dmQOUqJ",
        "outputId": "0c04f04f-0500-41d1-f495-c29a4848d907"
      },
      "execution_count": null,
      "outputs": [
        {
          "output_type": "execute_result",
          "data": {
            "text/plain": [
              "<Figure size 640x480 with 0 Axes>"
            ]
          },
          "metadata": {},
          "execution_count": 13
        },
        {
          "output_type": "display_data",
          "data": {
            "text/plain": [
              "<Figure size 640x480 with 1 Axes>"
            ],
            "image/png": "[encoded data removed]"
          },
          "metadata": {}
        },
        {
          "output_type": "display_data",
          "data": {
            "text/plain": [
              "<Figure size 640x480 with 0 Axes>"
            ]
          },
          "metadata": {}
        }
      ]
    }
  ],
  "metadata": {
    "colab": {
      "provenance": [],
      "machine_shape": "hm",
      "gpuType": "V100"
    },
    "kernelspec": {
      "display_name": "Python 3",
      "name": "python3"
    },
    "language_info": {
      "codemirror_mode": {
        "name": "ipython",
        "version": 3
      },
      "file_extension": ".py",
      "mimetype": "text/x-python",
      "name": "python",
      "nbconvert_exporter": "python",
      "pygments_lexer": "ipython3",
      "version": "3.9.13"
    },
    "accelerator": "GPU"
  },
  "nbformat": 4,
  "nbformat_minor": 0
}